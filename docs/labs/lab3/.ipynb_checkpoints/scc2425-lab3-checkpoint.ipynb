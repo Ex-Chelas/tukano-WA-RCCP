{
 "cells": [
  {
   "cell_type": "code",
   "execution_count": 5,
   "id": "0cbec22e",
   "metadata": {
    "slideshow": {
     "slide_type": "skip"
    }
   },
   "outputs": [],
   "source": [
    "\n",
    "!jupyter nbconvert --to html --TemplateExporter.exclude_code_cell=True --TemplateExporter.exclude_input_prompt=True --TemplateExporter.exclude_output_prompt=True scc2425-lab3.ipynb 2> /dev/null\n",
    "!jupyter nbconvert --to slides --TemplateExporter.exclude_input_prompt=True --TemplateExporter.exclude_output_prompt=True scc2425-lab3.ipynb 2> /dev/null"
   ]
  },
  {
   "cell_type": "markdown",
   "id": "b3f0f5fd",
   "metadata": {
    "slideshow": {
     "slide_type": "slide"
    }
   },
   "source": [
    "# Cloud Computing Systems\n",
    "## 2024/25\n",
    "\n",
    "Lab 3\n",
    "https://smduarte.github.io/scc2425/\n",
    "\n",
    "Sérgio Duarte, Kevin Gallagher "
   ]
  },
  {
   "attachments": {},
   "cell_type": "markdown",
   "id": "05850652",
   "metadata": {
    "slideshow": {
     "slide_type": "slide"
    }
   },
   "source": [
    "# Goals\n",
    "\n",
    "+ Create a Cosmos DB account / database and container @ Azure;\n",
    "+ Create the resources for the project by storing data at Azure Cosmos DB;\n",
    "+ Start converting Tukano to leverage CosmosDB NoSQL"
   ]
  },
  {
   "cell_type": "markdown",
   "id": "9af755e8",
   "metadata": {
    "slideshow": {
     "slide_type": "slide"
    }
   },
   "source": [
    "# Goals\n",
    "\n",
    "+ **Create a Cosmos DB account / database and container @ Azure;**\n",
    "+ Start converting Tukano to leverage CosmosDB NoSQL"
   ]
  },
  {
   "cell_type": "markdown",
   "id": "3b9d470e",
   "metadata": {
    "slideshow": {
     "slide_type": "slide"
    }
   },
   "source": [
    "# Add CosmosDB Account (1)\n",
    "\n",
    "<img src=\"cosmosdb-1.png\" width=\"75%\"></img>"
   ]
  },
  {
   "cell_type": "markdown",
   "id": "39ff7192",
   "metadata": {
    "slideshow": {
     "slide_type": "slide"
    }
   },
   "source": [
    "# Add CosmosDB Account (2)\n",
    "\n",
    "<img src=\"cosmosdb-2.png\" width=\"75%\"></img>"
   ]
  },
  {
   "cell_type": "markdown",
   "id": "96bd600e",
   "metadata": {
    "slideshow": {
     "slide_type": "slide"
    }
   },
   "source": [
    "# Add CosmosDB Account (3)\n",
    "\n",
    "<img src=\"cosmosdb-3.png\" width=\"75%\"></img>"
   ]
  },
  {
   "cell_type": "markdown",
   "id": "716169ad",
   "metadata": {
    "slideshow": {
     "slide_type": "slide"
    }
   },
   "source": [
    "# Add CosmosDB Account (4)\n",
    "\n",
    "<img src=\"cosmosdb-4.png\" width=\"75%\"></img>"
   ]
  },
  {
   "cell_type": "markdown",
   "id": "764b68bd",
   "metadata": {
    "slideshow": {
     "slide_type": "slide"
    }
   },
   "source": [
    "# Add CosmosDB Account (5)\n",
    "\n",
    "<img src=\"cosmosdb-5.png\" width=\"75%\"></img>"
   ]
  },
  {
   "cell_type": "markdown",
   "id": "f1988abd",
   "metadata": {
    "slideshow": {
     "slide_type": "slide"
    }
   },
   "source": [
    "# Add CosmosDB Account (6)\n",
    "\n",
    "<img src=\"cosmosdb-6.png\" width=\"75%\"></img>"
   ]
  },
  {
   "cell_type": "markdown",
   "id": "8a11c61e",
   "metadata": {
    "slideshow": {
     "slide_type": "slide"
    }
   },
   "source": [
    "# Add CosmosDB Account (7)\n",
    "\n",
    "<img src=\"cosmosdb-7.png\" width=\"75%\"></img>"
   ]
  },
  {
   "cell_type": "markdown",
   "id": "93ebc695",
   "metadata": {
    "slideshow": {
     "slide_type": "slide"
    }
   },
   "source": [
    "# Add Database + Container (1)\n",
    "\n",
    "<img src=\"cosmosdb-8.png\" width=\"75%\"></img>"
   ]
  },
  {
   "cell_type": "markdown",
   "id": "bf9cbdb2",
   "metadata": {
    "slideshow": {
     "slide_type": "slide"
    }
   },
   "source": [
    "# Add Database + Container (2)\n",
    "\n",
    "<img src=\"cosmosdb-9.png\" width=\"75%\"></img>"
   ]
  },
  {
   "cell_type": "markdown",
   "id": "67643571",
   "metadata": {
    "slideshow": {
     "slide_type": "slide"
    }
   },
   "source": [
    "# Add Database + Container (3)\n",
    "\n",
    "<img src=\"cosmosdb-10.png\" width=\"75%\"></img>"
   ]
  },
  {
   "cell_type": "markdown",
   "id": "39d3fff0",
   "metadata": {
    "slideshow": {
     "slide_type": "slide"
    }
   },
   "source": [
    "xxxx"
   ]
  },
  {
   "cell_type": "markdown",
   "id": "adbc8498",
   "metadata": {
    "slideshow": {
     "slide_type": "slide"
    }
   },
   "source": [
    "# Add Database + Container (4)\n",
    "\n",
    "<img src=\"cosmosdb-11.png\" width=\"75%\"></img>"
   ]
  },
  {
   "cell_type": "markdown",
   "id": "cf196aea",
   "metadata": {
    "slideshow": {
     "slide_type": "slide"
    }
   },
   "source": []
  },
  {
   "cell_type": "markdown",
   "id": "d5e089c3",
   "metadata": {
    "slideshow": {
     "slide_type": "slide"
    }
   },
   "source": [
    "# Add Database + Container (5)\n",
    "\n",
    "<img src=\"cosmosdb-12-1.png\" width=\"75%\"></img>\n",
    "<img src=\"cosmosdb-12-2.png\" width=\"75%\"></img>"
   ]
  },
  {
   "attachments": {},
   "cell_type": "markdown",
   "id": "4abc312e",
   "metadata": {
    "slideshow": {
     "slide_type": "slide"
    }
   },
   "source": [
    "# Cosmos DB account: access keys (for code)\n",
    "\n",
    "<img src=\"cosmosdb-13.png\" width=\"75%\"></img>"
   ]
  },
  {
   "cell_type": "markdown",
   "id": "161c83d4",
   "metadata": {
    "slideshow": {
     "slide_type": "slide"
    }
   },
   "source": [
    "# Goals\n",
    "\n",
    "+ Create a Cosmos DB account / database and container @ Azure;\n",
    "+ **Create the resources for the project by storing data at Azure Cosmos DB;**\n",
    "+ Start converting Tukano to leverage CosmosDB NoSQL"
   ]
  },
  {
   "attachments": {},
   "cell_type": "markdown",
   "id": "1d1fb185",
   "metadata": {
    "slideshow": {
     "slide_type": "slide"
    }
   },
   "source": [
    "# Accessing Cosmos DB: useful links\n",
    "\n",
    "We will use the library provided by Microsoft.\n",
    "\n",
    "Java Docs available at:\n",
    "\n",
    "+ [https://azuresdkdocs.blob.core.windows.net/web/java/azure-cosmos/latest/index.html](https://azuresdkdocs.blob.core.windows.net/web/java/azure-cosmos/latest/index.html)\n",
    "\n",
    "Overview on how to use at:\n",
    "\n",
    "+ [https://docs.microsoft.com/en-us/azure/cosmos-db/create-sql-api-java](https://docs.microsoft.com/en-us/azure/cosmos-db/create-sql-api-java)\n",
    "\n",
    "Cosmos DB SQL cheat sheet:\n",
    "\n",
    "+ [https://go.microsoft.com/fwlink/?LinkId=623215](https://go.microsoft.com/fwlink/?LinkId=623215)\n"
   ]
  },
  {
   "cell_type": "markdown",
   "id": "8ed6fbea",
   "metadata": {
    "slideshow": {
     "slide_type": "slide"
    }
   },
   "source": [
    "# Goals\n",
    "\n",
    "+ Create a StorageAccount + Blob Container @ Azure;**\n",
    "+ **Rewrite last week's sample project to use the blob storage service**\n",
    "+ Start converting Tukano to leverage Azure"
   ]
  },
  {
   "attachments": {},
   "cell_type": "markdown",
   "id": "9b740dba",
   "metadata": {
    "slideshow": {
     "slide_type": "slide"
    }
   },
   "source": [
    "# Maven dependencies\n",
    "\n",
    "```xml\n",
    "<dependency>\n",
    "\t<groupId>com.azure</groupId>\n",
    "\t<artifactId>azure-cosmos</artifactId>\n",
    "\t<version>4.63.3</version>\n",
    "</dependency>\n",
    "<dependency>\n",
    "\t<groupId>org.apache.commons</groupId>\n",
    "\t<artifactId>commons-lang3</artifactId>\n",
    "\t<version>3.17.0</version>\n",
    "</dependency>\n",
    "<dependency>\n",
    "\t<groupId>org.slf4j</groupId>\n",
    "\t<artifactId>slf4j-simple</artifactId>\n",
    "\t<version>2.0.16</version>\n",
    "</dependency>\n",
    "<dependency>\n",
    "\t<groupId>org.apache.logging.log4j</groupId>\n",
    "\t<artifactId>log4j-core</artifactId>\n",
    "\t<version>2.24.0</version>\n",
    "</dependency>\n",
    "```"
   ]
  },
  {
   "attachments": {},
   "cell_type": "markdown",
   "id": "3d28854d",
   "metadata": {
    "slideshow": {
     "slide_type": "skip"
    }
   },
   "source": [
    "# Maven dependencies (cont.)\n",
    "\n",
    "```xml\n",
    "<dependency>\n",
    "\t<groupId>com.fasterxml.jackson.core</groupId>\n",
    "\t<artifactId>jackson-core</artifactId>\n",
    "\t<version>2.18.0</version>\n",
    "</dependency>\n",
    "<dependency>\n",
    "\t<groupId>org.jboss.resteasy</groupId>\n",
    "\t<artifactId>resteasy-jackson2-provider</artifactId>\n",
    "\t<version>6.2.10.Final</version>\n",
    "</dependency>\n",
    "```"
   ]
  },
  {
   "attachments": {},
   "cell_type": "markdown",
   "id": "480b4239",
   "metadata": {
    "slideshow": {
     "slide_type": "slide"
    }
   },
   "source": [
    "# Step 1: create client to cosmos DB (1)\n",
    "\n",
    "```java\n",
    "    private static final String CONNECTION_URL = \"https://sc2425XXXXX.documents.azure.com:443/\";\n",
    "    private static final String DB_KEY = ... \n",
    "    private static final String DB_NAME = ...;\n",
    "```"
   ]
  },
  {
   "attachments": {},
   "cell_type": "markdown",
   "id": "fed6630a",
   "metadata": {
    "slideshow": {
     "slide_type": "slide"
    }
   },
   "source": [
    "# Step 1: create client to cosmos DB (1)\n",
    "\n",
    "```java\n",
    "    CosmosClient client = new CosmosClientBuilder()\n",
    "         .endpoint(CONNECTION_URL)\n",
    "         .key(DB_KEY)\n",
    "         .directMode() // comment this if not to use direct mode\n",
    "         .consistencyLevel(ConsistencyLevel.SESSION)\n",
    "         .connectionSharingAcrossClientsEnabled(true)\n",
    "         .contentResponseOnWriteEnabled(true) // On write, return the object written\n",
    "         .buildClient();\n",
    "```"
   ]
  },
  {
   "attachments": {},
   "cell_type": "markdown",
   "id": "3356576c",
   "metadata": {
    "slideshow": {
     "slide_type": "slide"
    }
   },
   "source": [
    "# Step 2: get reference to container\n",
    "\n",
    "```java\n",
    "\n",
    "db = client.getDatabase(DB_NAME);\n",
    "users = db.getContainer(\"users\");\n",
    "\n",
    "```"
   ]
  },
  {
   "cell_type": "markdown",
   "id": "39a5f3a3",
   "metadata": {},
   "source": [
    "# Step 3: User Class\n",
    "\n",
    "```java\n",
    "public class User {\n",
    "\t\n",
    "\tprivate String userId;\n",
    "\tprivate String pwd;\n",
    "\tprivate String email;\t\n",
    "\tprivate String displayName;\n",
    "\n",
    "    ...\n",
    "```"
   ]
  },
  {
   "cell_type": "markdown",
   "id": "8c1fb28c",
   "metadata": {},
   "source": [
    "# Step 3: User Class (What's actually stored)\n",
    "\n",
    "```java\n",
    "public class User {\n",
    "\tprivate String _rid; // Cosmos generated unique id of item\n",
    "\tprivate String _ts; // timestamp of the last update to the item\n",
    "\n",
    "\tprivate String userId;\n",
    "\tprivate String pwd;\n",
    "\tprivate String email;\t\n",
    "\tprivate String displayName;\n",
    "\n",
    "    ...\n",
    "```"
   ]
  },
  {
   "cell_type": "markdown",
   "id": "dc498b4e",
   "metadata": {
    "slideshow": {
     "slide_type": "slide"
    }
   },
   "source": [
    "# Sample Code\n",
    "\n",
    "The code provided [scc2425-lab2.zip](scc2425-lab2.zip) is a Maven project for uploading and downloading file to and from the Blob store (directly).\n",
    "\n",
    "For testing it in the command line, just run:\n",
    "\n",
    "```mvn clean compile assembly:single```\n",
    "\n",
    "This will compile and create a single file with all compiled classes and dependencies.\n",
    "\n",
    "Run the program as follows:\n",
    "\n",
    "```java -cp target/scc2425-lab2-1.0-jar-with-dependencies.jar scc.utils.UploadToStorage earth.jpg```"
   ]
  },
  {
   "cell_type": "markdown",
   "id": "b67c11bd",
   "metadata": {
    "slideshow": {
     "slide_type": "slide"
    }
   },
   "source": [
    "# Goals\n",
    "\n",
    "+ Create a Cosmos DB account / database and container @ Azure;\n",
    "+ Create the resources for the project by storing data at Azure Cosmos DB;\n",
    "+ **Start converting Tukano to leverage CosmosDB NoSQL**"
   ]
  }
 ],
 "metadata": {
  "celltoolbar": "Slideshow",
  "kernelspec": {
   "display_name": "Python 3 (ipykernel)",
   "language": "python",
   "name": "python3"
  },
  "language_info": {
   "codemirror_mode": {
    "name": "ipython",
    "version": 3
   },
   "file_extension": ".py",
   "mimetype": "text/x-python",
   "name": "python",
   "nbconvert_exporter": "python",
   "pygments_lexer": "ipython3",
   "version": "3.10.9"
  },
  "rise": {
   "theme": "sky"
  }
 },
 "nbformat": 4,
 "nbformat_minor": 5
}
